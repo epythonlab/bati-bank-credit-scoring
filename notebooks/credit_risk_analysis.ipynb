{
 "cells": [
  {
   "cell_type": "markdown",
   "metadata": {},
   "source": [
    "## Exploratory Data Analysis\n",
    "\n",
    "1. Data Overview\n",
    "\n",
    "- **Goal**: Understand the structure of the dataset, including the number of rows, columns, and data types.\n",
    "\n",
    "- **Key Steps:** Load the data and print a concise summary of the dataset using `.info()` and `.head()`."
   ]
  },
  {
   "cell_type": "code",
   "execution_count": 1,
   "metadata": {},
   "outputs": [
    {
     "name": "stderr",
     "output_type": "stream",
     "text": [
      "2024-10-02 16:09:53,417 - INFO - Imported necessary libraries.\n"
     ]
    }
   ],
   "source": [
    "#Import necessary libraries\n",
    "import pandas as pd\n",
    "import logging\n",
    "import os, sys\n",
    "# Add the 'scripts' directory to the Python path for module imports\n",
    "sys.path.append(os.path.abspath(os.path.join('..', 'scripts')))\n",
    "# Import load_data module\n",
    "from load_data import load_data\n",
    "\n",
    "# Set max rows and columns to display\n",
    "pd.set_option('display.max_columns', 200)\n",
    "pd.set_option('display.max_rows', 200)\n",
    "\n",
    "# Configure logging\n",
    "from logger import setup_logger\n",
    "logger = setup_logger()\n",
    "\n",
    "logger.info(\"Imported necessary libraries.\")"
   ]
  },
  {
   "cell_type": "markdown",
   "metadata": {},
   "source": [
    "Load the dataset"
   ]
  },
  {
   "cell_type": "code",
   "execution_count": 2,
   "metadata": {},
   "outputs": [
    {
     "name": "stderr",
     "output_type": "stream",
     "text": [
      "2024-10-02 16:09:53,432 - INFO - Data loading initiated.\n",
      "2024-10-02 16:09:53,933 - INFO - Data loaded successfully.\n"
     ]
    },
    {
     "name": "stdout",
     "output_type": "stream",
     "text": [
      "Data successfully loaded from ../data/data.csv\n",
      "Dataset contains 95662 rows and 15 columns.\n",
      "\n"
     ]
    }
   ],
   "source": [
    "logger.info(\"Data loading initiated.\")\n",
    "df = load_data('../data/data.csv')  # Assume load_data() is your function\n",
    "logger.info(\"Data loaded successfully.\")"
   ]
  },
  {
   "cell_type": "markdown",
   "metadata": {},
   "source": [
    "1. **Data overview**:\n",
    "\n",
    "- Provide an overview of the dataset including shape, data types, missing values, and first few rows."
   ]
  },
  {
   "cell_type": "code",
   "execution_count": 3,
   "metadata": {},
   "outputs": [
    {
     "name": "stderr",
     "output_type": "stream",
     "text": [
      "2024-10-02 16:09:55,138 - INFO - Data overview initiated.\n"
     ]
    },
    {
     "name": "stdout",
     "output_type": "stream",
     "text": [
      "Data Overview:\n",
      "Number of rows: 95662\n",
      "Number of columns: 15\n",
      "\n",
      "Column Data Types:\n",
      "BatchId                  object\n",
      "AccountId                object\n",
      "SubscriptionId           object\n",
      "CustomerId               object\n",
      "CurrencyCode             object\n",
      "CountryCode               int64\n",
      "ProviderId               object\n",
      "ProductId                object\n",
      "ProductCategory          object\n",
      "ChannelId                object\n",
      "Amount                  float64\n",
      "Value                     int64\n",
      "TransactionStartTime     object\n",
      "PricingStrategy           int64\n",
      "FraudResult               int64\n",
      "dtype: object\n",
      "\n",
      "First Five Rows:\n"
     ]
    },
    {
     "data": {
      "text/html": [
       "<div>\n",
       "<style scoped>\n",
       "    .dataframe tbody tr th:only-of-type {\n",
       "        vertical-align: middle;\n",
       "    }\n",
       "\n",
       "    .dataframe tbody tr th {\n",
       "        vertical-align: top;\n",
       "    }\n",
       "\n",
       "    .dataframe thead th {\n",
       "        text-align: right;\n",
       "    }\n",
       "</style>\n",
       "<table border=\"1\" class=\"dataframe\">\n",
       "  <thead>\n",
       "    <tr style=\"text-align: right;\">\n",
       "      <th></th>\n",
       "      <th>BatchId</th>\n",
       "      <th>AccountId</th>\n",
       "      <th>SubscriptionId</th>\n",
       "      <th>CustomerId</th>\n",
       "      <th>CurrencyCode</th>\n",
       "      <th>CountryCode</th>\n",
       "      <th>ProviderId</th>\n",
       "      <th>ProductId</th>\n",
       "      <th>ProductCategory</th>\n",
       "      <th>ChannelId</th>\n",
       "      <th>Amount</th>\n",
       "      <th>Value</th>\n",
       "      <th>TransactionStartTime</th>\n",
       "      <th>PricingStrategy</th>\n",
       "      <th>FraudResult</th>\n",
       "    </tr>\n",
       "    <tr>\n",
       "      <th>TransactionId</th>\n",
       "      <th></th>\n",
       "      <th></th>\n",
       "      <th></th>\n",
       "      <th></th>\n",
       "      <th></th>\n",
       "      <th></th>\n",
       "      <th></th>\n",
       "      <th></th>\n",
       "      <th></th>\n",
       "      <th></th>\n",
       "      <th></th>\n",
       "      <th></th>\n",
       "      <th></th>\n",
       "      <th></th>\n",
       "      <th></th>\n",
       "    </tr>\n",
       "  </thead>\n",
       "  <tbody>\n",
       "    <tr>\n",
       "      <th>TransactionId_76871</th>\n",
       "      <td>BatchId_36123</td>\n",
       "      <td>AccountId_3957</td>\n",
       "      <td>SubscriptionId_887</td>\n",
       "      <td>CustomerId_4406</td>\n",
       "      <td>UGX</td>\n",
       "      <td>256</td>\n",
       "      <td>ProviderId_6</td>\n",
       "      <td>ProductId_10</td>\n",
       "      <td>airtime</td>\n",
       "      <td>ChannelId_3</td>\n",
       "      <td>1000.0</td>\n",
       "      <td>1000</td>\n",
       "      <td>2018-11-15T02:18:49Z</td>\n",
       "      <td>2</td>\n",
       "      <td>0</td>\n",
       "    </tr>\n",
       "    <tr>\n",
       "      <th>TransactionId_73770</th>\n",
       "      <td>BatchId_15642</td>\n",
       "      <td>AccountId_4841</td>\n",
       "      <td>SubscriptionId_3829</td>\n",
       "      <td>CustomerId_4406</td>\n",
       "      <td>UGX</td>\n",
       "      <td>256</td>\n",
       "      <td>ProviderId_4</td>\n",
       "      <td>ProductId_6</td>\n",
       "      <td>financial_services</td>\n",
       "      <td>ChannelId_2</td>\n",
       "      <td>-20.0</td>\n",
       "      <td>20</td>\n",
       "      <td>2018-11-15T02:19:08Z</td>\n",
       "      <td>2</td>\n",
       "      <td>0</td>\n",
       "    </tr>\n",
       "    <tr>\n",
       "      <th>TransactionId_26203</th>\n",
       "      <td>BatchId_53941</td>\n",
       "      <td>AccountId_4229</td>\n",
       "      <td>SubscriptionId_222</td>\n",
       "      <td>CustomerId_4683</td>\n",
       "      <td>UGX</td>\n",
       "      <td>256</td>\n",
       "      <td>ProviderId_6</td>\n",
       "      <td>ProductId_1</td>\n",
       "      <td>airtime</td>\n",
       "      <td>ChannelId_3</td>\n",
       "      <td>500.0</td>\n",
       "      <td>500</td>\n",
       "      <td>2018-11-15T02:44:21Z</td>\n",
       "      <td>2</td>\n",
       "      <td>0</td>\n",
       "    </tr>\n",
       "    <tr>\n",
       "      <th>TransactionId_380</th>\n",
       "      <td>BatchId_102363</td>\n",
       "      <td>AccountId_648</td>\n",
       "      <td>SubscriptionId_2185</td>\n",
       "      <td>CustomerId_988</td>\n",
       "      <td>UGX</td>\n",
       "      <td>256</td>\n",
       "      <td>ProviderId_1</td>\n",
       "      <td>ProductId_21</td>\n",
       "      <td>utility_bill</td>\n",
       "      <td>ChannelId_3</td>\n",
       "      <td>20000.0</td>\n",
       "      <td>21800</td>\n",
       "      <td>2018-11-15T03:32:55Z</td>\n",
       "      <td>2</td>\n",
       "      <td>0</td>\n",
       "    </tr>\n",
       "    <tr>\n",
       "      <th>TransactionId_28195</th>\n",
       "      <td>BatchId_38780</td>\n",
       "      <td>AccountId_4841</td>\n",
       "      <td>SubscriptionId_3829</td>\n",
       "      <td>CustomerId_988</td>\n",
       "      <td>UGX</td>\n",
       "      <td>256</td>\n",
       "      <td>ProviderId_4</td>\n",
       "      <td>ProductId_6</td>\n",
       "      <td>financial_services</td>\n",
       "      <td>ChannelId_2</td>\n",
       "      <td>-644.0</td>\n",
       "      <td>644</td>\n",
       "      <td>2018-11-15T03:34:21Z</td>\n",
       "      <td>2</td>\n",
       "      <td>0</td>\n",
       "    </tr>\n",
       "  </tbody>\n",
       "</table>\n",
       "</div>"
      ],
      "text/plain": [
       "                            BatchId       AccountId       SubscriptionId  \\\n",
       "TransactionId                                                              \n",
       "TransactionId_76871   BatchId_36123  AccountId_3957   SubscriptionId_887   \n",
       "TransactionId_73770   BatchId_15642  AccountId_4841  SubscriptionId_3829   \n",
       "TransactionId_26203   BatchId_53941  AccountId_4229   SubscriptionId_222   \n",
       "TransactionId_380    BatchId_102363   AccountId_648  SubscriptionId_2185   \n",
       "TransactionId_28195   BatchId_38780  AccountId_4841  SubscriptionId_3829   \n",
       "\n",
       "                          CustomerId CurrencyCode  CountryCode    ProviderId  \\\n",
       "TransactionId                                                                  \n",
       "TransactionId_76871  CustomerId_4406          UGX          256  ProviderId_6   \n",
       "TransactionId_73770  CustomerId_4406          UGX          256  ProviderId_4   \n",
       "TransactionId_26203  CustomerId_4683          UGX          256  ProviderId_6   \n",
       "TransactionId_380     CustomerId_988          UGX          256  ProviderId_1   \n",
       "TransactionId_28195   CustomerId_988          UGX          256  ProviderId_4   \n",
       "\n",
       "                        ProductId     ProductCategory    ChannelId   Amount  \\\n",
       "TransactionId                                                                 \n",
       "TransactionId_76871  ProductId_10             airtime  ChannelId_3   1000.0   \n",
       "TransactionId_73770   ProductId_6  financial_services  ChannelId_2    -20.0   \n",
       "TransactionId_26203   ProductId_1             airtime  ChannelId_3    500.0   \n",
       "TransactionId_380    ProductId_21        utility_bill  ChannelId_3  20000.0   \n",
       "TransactionId_28195   ProductId_6  financial_services  ChannelId_2   -644.0   \n",
       "\n",
       "                     Value  TransactionStartTime  PricingStrategy  FraudResult  \n",
       "TransactionId                                                                   \n",
       "TransactionId_76871   1000  2018-11-15T02:18:49Z                2            0  \n",
       "TransactionId_73770     20  2018-11-15T02:19:08Z                2            0  \n",
       "TransactionId_26203    500  2018-11-15T02:44:21Z                2            0  \n",
       "TransactionId_380    21800  2018-11-15T03:32:55Z                2            0  \n",
       "TransactionId_28195    644  2018-11-15T03:34:21Z                2            0  "
      ]
     },
     "metadata": {},
     "output_type": "display_data"
    },
    {
     "name": "stderr",
     "output_type": "stream",
     "text": [
      "2024-10-02 16:09:55,219 - INFO - Data overview successfully completed.\n"
     ]
    },
    {
     "name": "stdout",
     "output_type": "stream",
     "text": [
      "\n",
      "Missing Values Overview:\n",
      "BatchId                 0\n",
      "AccountId               0\n",
      "SubscriptionId          0\n",
      "CustomerId              0\n",
      "CurrencyCode            0\n",
      "CountryCode             0\n",
      "ProviderId              0\n",
      "ProductId               0\n",
      "ProductCategory         0\n",
      "ChannelId               0\n",
      "Amount                  0\n",
      "Value                   0\n",
      "TransactionStartTime    0\n",
      "PricingStrategy         0\n",
      "FraudResult             0\n",
      "dtype: int64\n"
     ]
    }
   ],
   "source": [
    "# Import the class CreditRiskEDA\n",
    "from credit_risk_eda import CreditRiskEDA\n",
    "# Initialize the class\n",
    "cr_eda = CreditRiskEDA(df)\n",
    "# Logging activity\n",
    "logger.info(\"Data overview initiated.\")\n",
    "\n",
    "# Overview of the dataset\n",
    "if not df.empty:\n",
    "    cr_eda.data_overview()\n",
    "\n",
    "logger.info(\"Data overview successfully completed.\")\n"
   ]
  },
  {
   "cell_type": "markdown",
   "metadata": {},
   "source": [
    "**Data Overview Summary**\n",
    "\n",
    "- The dataset contains 95,662 rows and 15 columns, providing a substantial amount of data for analysis.\n",
    "\n",
    "- The data types are generally correct, except for the `TransactionStartTime` column, which is currently stored as an object. This column should be converted to datetime format for accurate time-based analysis.\n",
    "\n",
    "- No missing values were detected in any of the columns, ensuring the dataset is complete and ready for further analysis without the need for imputation."
   ]
  },
  {
   "cell_type": "markdown",
   "metadata": {},
   "source": [
    "**2. Summary Statistics**\n",
    "\n",
    "- Understand the central tendency, dispersion, and shape of the dataset’s distribution.\n"
   ]
  },
  {
   "cell_type": "code",
   "execution_count": 6,
   "metadata": {},
   "outputs": [
    {
     "name": "stderr",
     "output_type": "stream",
     "text": [
      "2024-10-02 16:10:05,265 - INFO - Generating summary statistics for numeric columns...\n"
     ]
    },
    {
     "data": {
      "text/html": [
       "<div>\n",
       "<style scoped>\n",
       "    .dataframe tbody tr th:only-of-type {\n",
       "        vertical-align: middle;\n",
       "    }\n",
       "\n",
       "    .dataframe tbody tr th {\n",
       "        vertical-align: top;\n",
       "    }\n",
       "\n",
       "    .dataframe thead th {\n",
       "        text-align: right;\n",
       "    }\n",
       "</style>\n",
       "<table border=\"1\" class=\"dataframe\">\n",
       "  <thead>\n",
       "    <tr style=\"text-align: right;\">\n",
       "      <th></th>\n",
       "      <th>CountryCode</th>\n",
       "      <th>Amount</th>\n",
       "      <th>Value</th>\n",
       "      <th>PricingStrategy</th>\n",
       "      <th>FraudResult</th>\n",
       "    </tr>\n",
       "  </thead>\n",
       "  <tbody>\n",
       "    <tr>\n",
       "      <th>count</th>\n",
       "      <td>95662.0</td>\n",
       "      <td>9.566200e+04</td>\n",
       "      <td>9.566200e+04</td>\n",
       "      <td>95662.000000</td>\n",
       "      <td>95662.000000</td>\n",
       "    </tr>\n",
       "    <tr>\n",
       "      <th>mean</th>\n",
       "      <td>256.0</td>\n",
       "      <td>6.717846e+03</td>\n",
       "      <td>9.900584e+03</td>\n",
       "      <td>2.255974</td>\n",
       "      <td>0.002018</td>\n",
       "    </tr>\n",
       "    <tr>\n",
       "      <th>std</th>\n",
       "      <td>0.0</td>\n",
       "      <td>1.233068e+05</td>\n",
       "      <td>1.231221e+05</td>\n",
       "      <td>0.732924</td>\n",
       "      <td>0.044872</td>\n",
       "    </tr>\n",
       "    <tr>\n",
       "      <th>min</th>\n",
       "      <td>256.0</td>\n",
       "      <td>-1.000000e+06</td>\n",
       "      <td>2.000000e+00</td>\n",
       "      <td>0.000000</td>\n",
       "      <td>0.000000</td>\n",
       "    </tr>\n",
       "    <tr>\n",
       "      <th>25%</th>\n",
       "      <td>256.0</td>\n",
       "      <td>-5.000000e+01</td>\n",
       "      <td>2.750000e+02</td>\n",
       "      <td>2.000000</td>\n",
       "      <td>0.000000</td>\n",
       "    </tr>\n",
       "    <tr>\n",
       "      <th>50%</th>\n",
       "      <td>256.0</td>\n",
       "      <td>1.000000e+03</td>\n",
       "      <td>1.000000e+03</td>\n",
       "      <td>2.000000</td>\n",
       "      <td>0.000000</td>\n",
       "    </tr>\n",
       "    <tr>\n",
       "      <th>75%</th>\n",
       "      <td>256.0</td>\n",
       "      <td>2.800000e+03</td>\n",
       "      <td>5.000000e+03</td>\n",
       "      <td>2.000000</td>\n",
       "      <td>0.000000</td>\n",
       "    </tr>\n",
       "    <tr>\n",
       "      <th>max</th>\n",
       "      <td>256.0</td>\n",
       "      <td>9.880000e+06</td>\n",
       "      <td>9.880000e+06</td>\n",
       "      <td>4.000000</td>\n",
       "      <td>1.000000</td>\n",
       "    </tr>\n",
       "    <tr>\n",
       "      <th>median</th>\n",
       "      <td>256.0</td>\n",
       "      <td>1.000000e+03</td>\n",
       "      <td>1.000000e+03</td>\n",
       "      <td>2.000000</td>\n",
       "      <td>0.000000</td>\n",
       "    </tr>\n",
       "    <tr>\n",
       "      <th>mode</th>\n",
       "      <td>256.0</td>\n",
       "      <td>1.000000e+03</td>\n",
       "      <td>1.000000e+03</td>\n",
       "      <td>2.000000</td>\n",
       "      <td>0.000000</td>\n",
       "    </tr>\n",
       "    <tr>\n",
       "      <th>skewness</th>\n",
       "      <td>0.0</td>\n",
       "      <td>5.109849e+01</td>\n",
       "      <td>5.129109e+01</td>\n",
       "      <td>1.659057</td>\n",
       "      <td>22.196295</td>\n",
       "    </tr>\n",
       "    <tr>\n",
       "      <th>kurtosis</th>\n",
       "      <td>0.0</td>\n",
       "      <td>3.363128e+03</td>\n",
       "      <td>3.378069e+03</td>\n",
       "      <td>2.087534</td>\n",
       "      <td>490.685762</td>\n",
       "    </tr>\n",
       "  </tbody>\n",
       "</table>\n",
       "</div>"
      ],
      "text/plain": [
       "          CountryCode        Amount         Value  PricingStrategy  \\\n",
       "count         95662.0  9.566200e+04  9.566200e+04     95662.000000   \n",
       "mean            256.0  6.717846e+03  9.900584e+03         2.255974   \n",
       "std               0.0  1.233068e+05  1.231221e+05         0.732924   \n",
       "min             256.0 -1.000000e+06  2.000000e+00         0.000000   \n",
       "25%             256.0 -5.000000e+01  2.750000e+02         2.000000   \n",
       "50%             256.0  1.000000e+03  1.000000e+03         2.000000   \n",
       "75%             256.0  2.800000e+03  5.000000e+03         2.000000   \n",
       "max             256.0  9.880000e+06  9.880000e+06         4.000000   \n",
       "median          256.0  1.000000e+03  1.000000e+03         2.000000   \n",
       "mode            256.0  1.000000e+03  1.000000e+03         2.000000   \n",
       "skewness          0.0  5.109849e+01  5.129109e+01         1.659057   \n",
       "kurtosis          0.0  3.363128e+03  3.378069e+03         2.087534   \n",
       "\n",
       "           FraudResult  \n",
       "count     95662.000000  \n",
       "mean          0.002018  \n",
       "std           0.044872  \n",
       "min           0.000000  \n",
       "25%           0.000000  \n",
       "50%           0.000000  \n",
       "75%           0.000000  \n",
       "max           1.000000  \n",
       "median        0.000000  \n",
       "mode          0.000000  \n",
       "skewness     22.196295  \n",
       "kurtosis    490.685762  "
      ]
     },
     "metadata": {},
     "output_type": "display_data"
    },
    {
     "name": "stderr",
     "output_type": "stream",
     "text": [
      "2024-10-02 16:10:05,368 - INFO - Summary statistics generation completed.\n"
     ]
    }
   ],
   "source": [
    "# Log the start of the summary statistics process\n",
    "logger.info(\"Generating summary statistics for numeric columns...\")   \n",
    "\n",
    "# Statistical summary\n",
    "summary_stats = cr_eda.summary_statistics()\n",
    "display(summary_stats.T)\n",
    "# Log completion\n",
    "logger.info(\"Summary statistics generation completed.\")"
   ]
  },
  {
   "cell_type": "code",
   "execution_count": 5,
   "metadata": {},
   "outputs": [
    {
     "ename": "NameError",
     "evalue": "name 'plot_numeric_distributions' is not defined",
     "output_type": "error",
     "traceback": [
      "\u001b[0;31m---------------------------------------------------------------------------\u001b[0m",
      "\u001b[0;31mNameError\u001b[0m                                 Traceback (most recent call last)",
      "Cell \u001b[0;32mIn[5], line 2\u001b[0m\n\u001b[1;32m      1\u001b[0m \u001b[38;5;66;03m# Call the function with your DataFrame\u001b[39;00m\n\u001b[0;32m----> 2\u001b[0m \u001b[43mplot_numeric_distributions\u001b[49m(df, max_plots\u001b[38;5;241m=\u001b[39m\u001b[38;5;241m3\u001b[39m, plots_per_row\u001b[38;5;241m=\u001b[39m\u001b[38;5;241m2\u001b[39m)\n",
      "\u001b[0;31mNameError\u001b[0m: name 'plot_numeric_distributions' is not defined"
     ]
    }
   ],
   "source": [
    "# Call the function with your DataFrame\n",
    "plot_numeric_distributions(df, max_plots=3, plots_per_row=2)"
   ]
  },
  {
   "cell_type": "code",
   "execution_count": null,
   "metadata": {},
   "outputs": [
    {
     "name": "stderr",
     "output_type": "stream",
     "text": [
      "2024-10-02 15:44:30,791 - INFO - Data overview initiated.\n"
     ]
    },
    {
     "name": "stdout",
     "output_type": "stream",
     "text": [
      "\n",
      "Summary Statistics for Numerical Features:\n"
     ]
    },
    {
     "name": "stderr",
     "output_type": "stream",
     "text": [
      "2024-10-02 15:44:31,169 - INFO - Data overview successfully completed.\n"
     ]
    },
    {
     "name": "stdout",
     "output_type": "stream",
     "text": [
      "       CountryCode        Amount         Value  PricingStrategy   FraudResult\n",
      "count      95662.0  9.566200e+04  9.566200e+04     95662.000000  95662.000000\n",
      "mean         256.0  6.717846e+03  9.900584e+03         2.255974      0.002018\n",
      "std            0.0  1.233068e+05  1.231221e+05         0.732924      0.044872\n",
      "min          256.0 -1.000000e+06  2.000000e+00         0.000000      0.000000\n",
      "25%          256.0 -5.000000e+01  2.750000e+02         2.000000      0.000000\n",
      "50%          256.0  1.000000e+03  1.000000e+03         2.000000      0.000000\n",
      "75%          256.0  2.800000e+03  5.000000e+03         2.000000      0.000000\n",
      "max          256.0  9.880000e+06  9.880000e+06         4.000000      1.000000\n"
     ]
    }
   ],
   "source": [
    "# Logging activity\n",
    "logger.info(\"Data overview initiated.\")\n",
    "\n",
    "# Summary of  of the dataset\n",
    "if not df.empty:\n",
    "    cr_eda.summary_statistics()\n",
    "\n",
    "logger.info(\"Data overview successfully completed.\")\n"
   ]
  }
 ],
 "metadata": {
  "kernelspec": {
   "display_name": ".venv",
   "language": "python",
   "name": "python3"
  },
  "language_info": {
   "codemirror_mode": {
    "name": "ipython",
    "version": 3
   },
   "file_extension": ".py",
   "mimetype": "text/x-python",
   "name": "python",
   "nbconvert_exporter": "python",
   "pygments_lexer": "ipython3",
   "version": "3.11.6"
  }
 },
 "nbformat": 4,
 "nbformat_minor": 2
}
